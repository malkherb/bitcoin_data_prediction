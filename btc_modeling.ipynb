{
 "cells": [
  {
   "cell_type": "markdown",
   "metadata": {},
   "source": [
    "# Project Overview:"
   ]
  },
  {
   "cell_type": "markdown",
   "metadata": {},
   "source": [
    "**Problem domain:**\n",
    "\n",
    "An analysis on Jupiter on Bitcoin Historical Data."
   ]
  },
  {
   "cell_type": "markdown",
   "metadata": {},
   "source": [
    "**Project origin and dataset**:\n",
    "\n",
    "The raw data was downloaded directly from djrmarques at Kaggle."
   ]
  },
  {
   "cell_type": "markdown",
   "metadata": {},
   "source": [
    "# Problem Statement:"
   ]
  },
  {
   "cell_type": "markdown",
   "metadata": {},
   "source": [
    "In this project, I have a data set on bitcoin price history. This data set has only hostrical data. I will use this data to check if I can predict future price change."
   ]
  },
  {
   "cell_type": "markdown",
   "metadata": {},
   "source": [
    "# Strategy:"
   ]
  },
  {
   "cell_type": "markdown",
   "metadata": {},
   "source": [
    "First, I will preprocess the data, build a model, optimize it, then use it to predict the future price changes. In addition, I will use the hostrical data to answer several questions including:\n",
    "\n",
    "- Can we predict the change % of Bitcoin price tomorrow using the collected data set ?\n",
    "\n",
    "- Is Bitcoin price likely to increase or decrease in the coming years?\n",
    " \n",
    "- Which date had the most trading volume?\n",
    " \n",
    "- How is the trading volume during the Weekends versus Weekday?\n",
    " \n",
    "- Which months during Bitcoin history has the highest increase % and which one has the lowest decrease %?"
   ]
  },
  {
   "cell_type": "markdown",
   "metadata": {},
   "source": [
    "# Metrics:\n",
    "Metrics to be measured include:\n",
    "\n",
    "- R square and Standard Deviation, as we want to use squared for avoid the negative errors affecting the mean.\n",
    "- Visualizations on the price movements\n",
    "- Visualizations on the Weekdays vs Weekends\n",
    "- Visualizations on the Volumes per Month"
   ]
  },
  {
   "cell_type": "markdown",
   "metadata": {},
   "source": [
    "# Import the data:"
   ]
  },
  {
   "cell_type": "code",
   "execution_count": 49,
   "metadata": {},
   "outputs": [],
   "source": [
    "#Import the libraries:\n",
    "import numpy as np\n",
    "import pandas as pd\n",
    "import matplotlib.pyplot as plt\n",
    "from sklearn.linear_model import LinearRegression\n",
    "from sklearn.model_selection import train_test_split\n",
    "from sklearn.metrics import r2_score, mean_squared_error\n",
    "import seaborn as sns\n",
    "from sklearn.model_selection import train_test_split \n",
    "from sklearn.linear_model import Ridge\n",
    "from sklearn import metrics\n",
    "from sklearn.model_selection import cross_val_score\n",
    "from sklearn import metrics\n",
    "from sklearn.preprocessing import StandardScaler\n",
    "from sklearn.model_selection import train_test_split\n",
    "from sklearn.model_selection import GridSearchCV\n",
    "import mplfinance as mpf\n",
    "from mpl_finance import candlestick_ohlc\n",
    "import pandas as pd\n",
    "import matplotlib.dates as mpl_dates\n",
    "%matplotlib inline"
   ]
  },
  {
   "cell_type": "code",
   "execution_count": 50,
   "metadata": {},
   "outputs": [
    {
     "data": {
      "text/html": [
       "<div>\n",
       "<style scoped>\n",
       "    .dataframe tbody tr th:only-of-type {\n",
       "        vertical-align: middle;\n",
       "    }\n",
       "\n",
       "    .dataframe tbody tr th {\n",
       "        vertical-align: top;\n",
       "    }\n",
       "\n",
       "    .dataframe thead th {\n",
       "        text-align: right;\n",
       "    }\n",
       "</style>\n",
       "<table border=\"1\" class=\"dataframe\">\n",
       "  <thead>\n",
       "    <tr style=\"text-align: right;\">\n",
       "      <th></th>\n",
       "      <th>Date</th>\n",
       "      <th>Price</th>\n",
       "      <th>Open</th>\n",
       "      <th>High</th>\n",
       "      <th>Low</th>\n",
       "      <th>Vol.</th>\n",
       "      <th>Change %</th>\n",
       "    </tr>\n",
       "  </thead>\n",
       "  <tbody>\n",
       "    <tr>\n",
       "      <td>0</td>\n",
       "      <td>2019-10-05</td>\n",
       "      <td>7,371.0</td>\n",
       "      <td>7,443.6</td>\n",
       "      <td>7,451.8</td>\n",
       "      <td>7,332.5</td>\n",
       "      <td>3.41K</td>\n",
       "      <td>-0.97%</td>\n",
       "    </tr>\n",
       "    <tr>\n",
       "      <td>1</td>\n",
       "      <td>2019-10-04</td>\n",
       "      <td>7,443.4</td>\n",
       "      <td>7,520.4</td>\n",
       "      <td>7,528.0</td>\n",
       "      <td>7,331.9</td>\n",
       "      <td>5.47K</td>\n",
       "      <td>-1.02%</td>\n",
       "    </tr>\n",
       "    <tr>\n",
       "      <td>2</td>\n",
       "      <td>2019-10-03</td>\n",
       "      <td>7,520.4</td>\n",
       "      <td>7,657.2</td>\n",
       "      <td>7,689.6</td>\n",
       "      <td>7,381.7</td>\n",
       "      <td>7.03K</td>\n",
       "      <td>-1.78%</td>\n",
       "    </tr>\n",
       "    <tr>\n",
       "      <td>3</td>\n",
       "      <td>2019-10-02</td>\n",
       "      <td>7,656.9</td>\n",
       "      <td>7,631.3</td>\n",
       "      <td>7,665.7</td>\n",
       "      <td>7,491.3</td>\n",
       "      <td>7.60K</td>\n",
       "      <td>0.34%</td>\n",
       "    </tr>\n",
       "    <tr>\n",
       "      <td>4</td>\n",
       "      <td>2019-10-01</td>\n",
       "      <td>7,631.2</td>\n",
       "      <td>7,627.6</td>\n",
       "      <td>7,825.9</td>\n",
       "      <td>7,540.9</td>\n",
       "      <td>10.76K</td>\n",
       "      <td>0.02%</td>\n",
       "    </tr>\n",
       "  </tbody>\n",
       "</table>\n",
       "</div>"
      ],
      "text/plain": [
       "        Date    Price     Open     High      Low    Vol. Change %\n",
       "0 2019-10-05  7,371.0  7,443.6  7,451.8  7,332.5   3.41K   -0.97%\n",
       "1 2019-10-04  7,443.4  7,520.4  7,528.0  7,331.9   5.47K   -1.02%\n",
       "2 2019-10-03  7,520.4  7,657.2  7,689.6  7,381.7   7.03K   -1.78%\n",
       "3 2019-10-02  7,656.9  7,631.3  7,665.7  7,491.3   7.60K    0.34%\n",
       "4 2019-10-01  7,631.2  7,627.6  7,825.9  7,540.9  10.76K    0.02%"
      ]
     },
     "execution_count": 50,
     "metadata": {},
     "output_type": "execute_result"
    }
   ],
   "source": [
    "#import and parsing dates:\n",
    "#Source: https://www.kaggle.com/djrmarques/bitcoin-daily-data/download\n",
    "df = pd.read_csv('Bitcoin Historical Data - Investing.com.csv', decimal=',', parse_dates=['Date'])\n",
    "df.head()"
   ]
  },
  {
   "cell_type": "markdown",
   "metadata": {},
   "source": [
    "# Assess and clean the data:"
   ]
  },
  {
   "cell_type": "code",
   "execution_count": 51,
   "metadata": {},
   "outputs": [
    {
     "name": "stdout",
     "output_type": "stream",
     "text": [
      "<class 'pandas.core.frame.DataFrame'>\n",
      "RangeIndex: 2961 entries, 0 to 2960\n",
      "Data columns (total 7 columns):\n",
      "Date        2961 non-null datetime64[ns]\n",
      "Price       2961 non-null object\n",
      "Open        2961 non-null object\n",
      "High        2961 non-null object\n",
      "Low         2961 non-null object\n",
      "Vol.        2961 non-null object\n",
      "Change %    2961 non-null object\n",
      "dtypes: datetime64[ns](1), object(6)\n",
      "memory usage: 162.1+ KB\n"
     ]
    }
   ],
   "source": [
    "#checking datatypes:\n",
    "df.info()"
   ]
  },
  {
   "cell_type": "code",
   "execution_count": 52,
   "metadata": {},
   "outputs": [],
   "source": [
    "#Convert Change % column to float:\n",
    "df['Change %'].replace(to_replace=['%'], value='', regex=True, inplace=True)\n",
    "df['Change %'] = df['Change %'].str.replace('−', '-').astype(float)"
   ]
  },
  {
   "cell_type": "code",
   "execution_count": 53,
   "metadata": {},
   "outputs": [],
   "source": [
    "#rename Volume column:\n",
    "df = df.rename({'Vol.':'Vol'}, axis=1)"
   ]
  },
  {
   "cell_type": "code",
   "execution_count": 54,
   "metadata": {},
   "outputs": [],
   "source": [
    "#Remove commans to change dtypes:\n",
    "df.replace(to_replace=[','], value='', regex=True, inplace=True)\n",
    "#Replace units to be able to convrt Vol. from string to float:\n",
    "df['Vol'] = df['Vol'].str.translate(str.maketrans({'K':'0','M':'000000','.':'','-':np.nan}))"
   ]
  },
  {
   "cell_type": "code",
   "execution_count": 55,
   "metadata": {},
   "outputs": [
    {
     "data": {
      "text/html": [
       "<div>\n",
       "<style scoped>\n",
       "    .dataframe tbody tr th:only-of-type {\n",
       "        vertical-align: middle;\n",
       "    }\n",
       "\n",
       "    .dataframe tbody tr th {\n",
       "        vertical-align: top;\n",
       "    }\n",
       "\n",
       "    .dataframe thead th {\n",
       "        text-align: right;\n",
       "    }\n",
       "</style>\n",
       "<table border=\"1\" class=\"dataframe\">\n",
       "  <thead>\n",
       "    <tr style=\"text-align: right;\">\n",
       "      <th></th>\n",
       "      <th>Date</th>\n",
       "      <th>Price</th>\n",
       "      <th>Open</th>\n",
       "      <th>High</th>\n",
       "      <th>Low</th>\n",
       "      <th>Vol</th>\n",
       "      <th>Change %</th>\n",
       "    </tr>\n",
       "  </thead>\n",
       "  <tbody>\n",
       "    <tr>\n",
       "      <td>0</td>\n",
       "      <td>2019-10-05</td>\n",
       "      <td>7371.0</td>\n",
       "      <td>7443.6</td>\n",
       "      <td>7451.8</td>\n",
       "      <td>7332.5</td>\n",
       "      <td>3410</td>\n",
       "      <td>-0.97</td>\n",
       "    </tr>\n",
       "    <tr>\n",
       "      <td>1</td>\n",
       "      <td>2019-10-04</td>\n",
       "      <td>7443.4</td>\n",
       "      <td>7520.4</td>\n",
       "      <td>7528.0</td>\n",
       "      <td>7331.9</td>\n",
       "      <td>5470</td>\n",
       "      <td>-1.02</td>\n",
       "    </tr>\n",
       "    <tr>\n",
       "      <td>2</td>\n",
       "      <td>2019-10-03</td>\n",
       "      <td>7520.4</td>\n",
       "      <td>7657.2</td>\n",
       "      <td>7689.6</td>\n",
       "      <td>7381.7</td>\n",
       "      <td>7030</td>\n",
       "      <td>-1.78</td>\n",
       "    </tr>\n",
       "    <tr>\n",
       "      <td>3</td>\n",
       "      <td>2019-10-02</td>\n",
       "      <td>7656.9</td>\n",
       "      <td>7631.3</td>\n",
       "      <td>7665.7</td>\n",
       "      <td>7491.3</td>\n",
       "      <td>7600</td>\n",
       "      <td>0.34</td>\n",
       "    </tr>\n",
       "    <tr>\n",
       "      <td>4</td>\n",
       "      <td>2019-10-01</td>\n",
       "      <td>7631.2</td>\n",
       "      <td>7627.6</td>\n",
       "      <td>7825.9</td>\n",
       "      <td>7540.9</td>\n",
       "      <td>10760</td>\n",
       "      <td>0.02</td>\n",
       "    </tr>\n",
       "  </tbody>\n",
       "</table>\n",
       "</div>"
      ],
      "text/plain": [
       "        Date   Price    Open    High     Low    Vol  Change %\n",
       "0 2019-10-05  7371.0  7443.6  7451.8  7332.5   3410     -0.97\n",
       "1 2019-10-04  7443.4  7520.4  7528.0  7331.9   5470     -1.02\n",
       "2 2019-10-03  7520.4  7657.2  7689.6  7381.7   7030     -1.78\n",
       "3 2019-10-02  7656.9  7631.3  7665.7  7491.3   7600      0.34\n",
       "4 2019-10-01  7631.2  7627.6  7825.9  7540.9  10760      0.02"
      ]
     },
     "execution_count": 55,
     "metadata": {},
     "output_type": "execute_result"
    }
   ],
   "source": [
    "df.head()"
   ]
  },
  {
   "cell_type": "code",
   "execution_count": 56,
   "metadata": {},
   "outputs": [],
   "source": [
    "#changing columns types to float type for our analysis:\n",
    "df[['Price', 'Open', 'High', 'Low', 'Vol']] = df[['Price', 'Open', 'High', 'Low', 'Vol']].astype(float)"
   ]
  },
  {
   "cell_type": "code",
   "execution_count": 57,
   "metadata": {},
   "outputs": [
    {
     "name": "stdout",
     "output_type": "stream",
     "text": [
      "<class 'pandas.core.frame.DataFrame'>\n",
      "RangeIndex: 2961 entries, 0 to 2960\n",
      "Data columns (total 7 columns):\n",
      "Date        2961 non-null datetime64[ns]\n",
      "Price       2961 non-null float64\n",
      "Open        2961 non-null float64\n",
      "High        2961 non-null float64\n",
      "Low         2961 non-null float64\n",
      "Vol         2943 non-null float64\n",
      "Change %    2961 non-null float64\n",
      "dtypes: datetime64[ns](1), float64(6)\n",
      "memory usage: 162.1 KB\n"
     ]
    }
   ],
   "source": [
    "df.info()"
   ]
  },
  {
   "cell_type": "code",
   "execution_count": 58,
   "metadata": {},
   "outputs": [
    {
     "data": {
      "text/plain": [
       "(2961, 7)"
      ]
     },
     "execution_count": 58,
     "metadata": {},
     "output_type": "execute_result"
    }
   ],
   "source": [
    "#Checking the shape of the dataframe:\n",
    "df.shape"
   ]
  },
  {
   "cell_type": "code",
   "execution_count": 59,
   "metadata": {},
   "outputs": [
    {
     "data": {
      "image/png": "[encoded data removed]",
      "text/plain": [
       "<Figure size 432x288 with 1 Axes>"
      ]
     },
     "metadata": {},
     "output_type": "display_data"
    }
   ],
   "source": [
    "#Plotting Price Over Time\n",
    "plt.style.use('ggplot')\n",
    "\n",
    "# Extracting Data for plotting\n",
    "ohlc = df.loc[:, ['Date', 'Open', 'High', 'Low', 'Price']]\n",
    "ohlc['Date'] = pd.to_datetime(ohlc['Date'])\n",
    "ohlc['Date'] = ohlc['Date'].apply(mpl_dates.date2num)\n",
    "ohlc = ohlc.astype(float)\n",
    "\n",
    "# Creating Subplots\n",
    "fig, ax = plt.subplots()\n",
    "\n",
    "candlestick_ohlc(ax, ohlc.values, width=0.6, colorup='green', colordown='red', alpha=0.8)\n",
    "\n",
    "# Setting labels & titles\n",
    "ax.set_xlabel('Date')\n",
    "ax.set_ylabel('Price')\n",
    "fig.suptitle('Price Over Time')\n",
    "\n",
    "# Formatting Date\n",
    "date_format = mpl_dates.DateFormatter('%d-%m-%Y')\n",
    "ax.xaxis.set_major_formatter(date_format)\n",
    "fig.autofmt_xdate()\n",
    "\n",
    "fig.tight_layout()\n",
    "\n",
    "plt.show()"
   ]
  },
  {
   "cell_type": "code",
   "execution_count": 60,
   "metadata": {},
   "outputs": [],
   "source": [
    "#Drop NaNs rows:\n",
    "df = df.dropna(how='any', axis=0)  "
   ]
  },
  {
   "cell_type": "code",
   "execution_count": 61,
   "metadata": {},
   "outputs": [
    {
     "data": {
      "text/plain": [
       "(2943, 7)"
      ]
     },
     "execution_count": 61,
     "metadata": {},
     "output_type": "execute_result"
    }
   ],
   "source": [
    "#Checking the shape of the dataset:\n",
    "df.shape"
   ]
  },
  {
   "cell_type": "code",
   "execution_count": 62,
   "metadata": {},
   "outputs": [],
   "source": [
    "#df['Up_Down'] = np.where(df['Change %']>0, 'Up', 'Down')"
   ]
  },
  {
   "cell_type": "code",
   "execution_count": 63,
   "metadata": {},
   "outputs": [
    {
     "data": {
      "text/html": [
       "<div>\n",
       "<style scoped>\n",
       "    .dataframe tbody tr th:only-of-type {\n",
       "        vertical-align: middle;\n",
       "    }\n",
       "\n",
       "    .dataframe tbody tr th {\n",
       "        vertical-align: top;\n",
       "    }\n",
       "\n",
       "    .dataframe thead th {\n",
       "        text-align: right;\n",
       "    }\n",
       "</style>\n",
       "<table border=\"1\" class=\"dataframe\">\n",
       "  <thead>\n",
       "    <tr style=\"text-align: right;\">\n",
       "      <th></th>\n",
       "      <th>Date</th>\n",
       "      <th>Price</th>\n",
       "      <th>Open</th>\n",
       "      <th>High</th>\n",
       "      <th>Low</th>\n",
       "      <th>Vol</th>\n",
       "      <th>Change %</th>\n",
       "    </tr>\n",
       "  </thead>\n",
       "  <tbody>\n",
       "    <tr>\n",
       "      <td>0</td>\n",
       "      <td>2019-10-05</td>\n",
       "      <td>7371.0</td>\n",
       "      <td>7443.6</td>\n",
       "      <td>7451.8</td>\n",
       "      <td>7332.5</td>\n",
       "      <td>3410.0</td>\n",
       "      <td>-0.97</td>\n",
       "    </tr>\n",
       "    <tr>\n",
       "      <td>1</td>\n",
       "      <td>2019-10-04</td>\n",
       "      <td>7443.4</td>\n",
       "      <td>7520.4</td>\n",
       "      <td>7528.0</td>\n",
       "      <td>7331.9</td>\n",
       "      <td>5470.0</td>\n",
       "      <td>-1.02</td>\n",
       "    </tr>\n",
       "    <tr>\n",
       "      <td>2</td>\n",
       "      <td>2019-10-03</td>\n",
       "      <td>7520.4</td>\n",
       "      <td>7657.2</td>\n",
       "      <td>7689.6</td>\n",
       "      <td>7381.7</td>\n",
       "      <td>7030.0</td>\n",
       "      <td>-1.78</td>\n",
       "    </tr>\n",
       "    <tr>\n",
       "      <td>3</td>\n",
       "      <td>2019-10-02</td>\n",
       "      <td>7656.9</td>\n",
       "      <td>7631.3</td>\n",
       "      <td>7665.7</td>\n",
       "      <td>7491.3</td>\n",
       "      <td>7600.0</td>\n",
       "      <td>0.34</td>\n",
       "    </tr>\n",
       "    <tr>\n",
       "      <td>4</td>\n",
       "      <td>2019-10-01</td>\n",
       "      <td>7631.2</td>\n",
       "      <td>7627.6</td>\n",
       "      <td>7825.9</td>\n",
       "      <td>7540.9</td>\n",
       "      <td>10760.0</td>\n",
       "      <td>0.02</td>\n",
       "    </tr>\n",
       "  </tbody>\n",
       "</table>\n",
       "</div>"
      ],
      "text/plain": [
       "        Date   Price    Open    High     Low      Vol  Change %\n",
       "0 2019-10-05  7371.0  7443.6  7451.8  7332.5   3410.0     -0.97\n",
       "1 2019-10-04  7443.4  7520.4  7528.0  7331.9   5470.0     -1.02\n",
       "2 2019-10-03  7520.4  7657.2  7689.6  7381.7   7030.0     -1.78\n",
       "3 2019-10-02  7656.9  7631.3  7665.7  7491.3   7600.0      0.34\n",
       "4 2019-10-01  7631.2  7627.6  7825.9  7540.9  10760.0      0.02"
      ]
     },
     "execution_count": 63,
     "metadata": {},
     "output_type": "execute_result"
    }
   ],
   "source": [
    "df.head()"
   ]
  },
  {
   "cell_type": "markdown",
   "metadata": {},
   "source": [
    "# Building a Model:"
   ]
  },
  {
   "cell_type": "code",
   "execution_count": 64,
   "metadata": {},
   "outputs": [],
   "source": [
    "X = df.iloc[:, 1:6].values\n",
    "y = df.iloc[:, 6].values"
   ]
  },
  {
   "cell_type": "code",
   "execution_count": 66,
   "metadata": {},
   "outputs": [],
   "source": [
    "#Splitting the data without random assign/shuffling:\n",
    "X_train, X_test, y_train, y_test = train_test_split(X, y, shuffle=False, test_size=0.2, stratify=None)"
   ]
  },
  {
   "cell_type": "code",
   "execution_count": 67,
   "metadata": {},
   "outputs": [],
   "source": [
    "# Feature Scaling\n",
    "sc = StandardScaler()\n",
    "X_train = sc.fit_transform(X_train)\n",
    "X_test = sc.transform(X_test)"
   ]
  },
  {
   "cell_type": "code",
   "execution_count": 68,
   "metadata": {},
   "outputs": [],
   "source": [
    "regressor = LinearRegression()  \n",
    "regressor.fit(X_train, y_train)\n",
    "y_pred = regressor.predict(X_test)"
   ]
  },
  {
   "cell_type": "code",
   "execution_count": 69,
   "metadata": {},
   "outputs": [
    {
     "data": {
      "text/html": [
       "<div>\n",
       "<style scoped>\n",
       "    .dataframe tbody tr th:only-of-type {\n",
       "        vertical-align: middle;\n",
       "    }\n",
       "\n",
       "    .dataframe tbody tr th {\n",
       "        vertical-align: top;\n",
       "    }\n",
       "\n",
       "    .dataframe thead th {\n",
       "        text-align: right;\n",
       "    }\n",
       "</style>\n",
       "<table border=\"1\" class=\"dataframe\">\n",
       "  <thead>\n",
       "    <tr style=\"text-align: right;\">\n",
       "      <th></th>\n",
       "      <th>Actual</th>\n",
       "      <th>Predicted</th>\n",
       "    </tr>\n",
       "  </thead>\n",
       "  <tbody>\n",
       "    <tr>\n",
       "      <td>0</td>\n",
       "      <td>-19.32</td>\n",
       "      <td>-0.077049</td>\n",
       "    </tr>\n",
       "    <tr>\n",
       "      <td>1</td>\n",
       "      <td>-4.35</td>\n",
       "      <td>-0.407983</td>\n",
       "    </tr>\n",
       "    <tr>\n",
       "      <td>2</td>\n",
       "      <td>-27.56</td>\n",
       "      <td>-0.201541</td>\n",
       "    </tr>\n",
       "    <tr>\n",
       "      <td>3</td>\n",
       "      <td>-29.48</td>\n",
       "      <td>-0.580859</td>\n",
       "    </tr>\n",
       "    <tr>\n",
       "      <td>4</td>\n",
       "      <td>25.39</td>\n",
       "      <td>0.826122</td>\n",
       "    </tr>\n",
       "    <tr>\n",
       "      <td>5</td>\n",
       "      <td>12.95</td>\n",
       "      <td>0.587881</td>\n",
       "    </tr>\n",
       "    <tr>\n",
       "      <td>6</td>\n",
       "      <td>13.57</td>\n",
       "      <td>0.577812</td>\n",
       "    </tr>\n",
       "    <tr>\n",
       "      <td>7</td>\n",
       "      <td>3.20</td>\n",
       "      <td>0.457457</td>\n",
       "    </tr>\n",
       "    <tr>\n",
       "      <td>8</td>\n",
       "      <td>4.33</td>\n",
       "      <td>0.454880</td>\n",
       "    </tr>\n",
       "    <tr>\n",
       "      <td>9</td>\n",
       "      <td>0.98</td>\n",
       "      <td>0.390398</td>\n",
       "    </tr>\n",
       "    <tr>\n",
       "      <td>10</td>\n",
       "      <td>11.71</td>\n",
       "      <td>0.413841</td>\n",
       "    </tr>\n",
       "    <tr>\n",
       "      <td>11</td>\n",
       "      <td>14.14</td>\n",
       "      <td>0.550308</td>\n",
       "    </tr>\n",
       "    <tr>\n",
       "      <td>12</td>\n",
       "      <td>9.53</td>\n",
       "      <td>0.485776</td>\n",
       "    </tr>\n",
       "    <tr>\n",
       "      <td>13</td>\n",
       "      <td>2.03</td>\n",
       "      <td>0.458860</td>\n",
       "    </tr>\n",
       "    <tr>\n",
       "      <td>14</td>\n",
       "      <td>1.99</td>\n",
       "      <td>0.450895</td>\n",
       "    </tr>\n",
       "    <tr>\n",
       "      <td>15</td>\n",
       "      <td>0.33</td>\n",
       "      <td>0.373020</td>\n",
       "    </tr>\n",
       "    <tr>\n",
       "      <td>16</td>\n",
       "      <td>1.99</td>\n",
       "      <td>0.297170</td>\n",
       "    </tr>\n",
       "    <tr>\n",
       "      <td>17</td>\n",
       "      <td>13.66</td>\n",
       "      <td>0.440181</td>\n",
       "    </tr>\n",
       "    <tr>\n",
       "      <td>18</td>\n",
       "      <td>7.37</td>\n",
       "      <td>0.470115</td>\n",
       "    </tr>\n",
       "    <tr>\n",
       "      <td>19</td>\n",
       "      <td>2.90</td>\n",
       "      <td>0.342828</td>\n",
       "    </tr>\n",
       "    <tr>\n",
       "      <td>20</td>\n",
       "      <td>11.08</td>\n",
       "      <td>0.499619</td>\n",
       "    </tr>\n",
       "    <tr>\n",
       "      <td>21</td>\n",
       "      <td>-8.00</td>\n",
       "      <td>0.244313</td>\n",
       "    </tr>\n",
       "    <tr>\n",
       "      <td>22</td>\n",
       "      <td>-3.62</td>\n",
       "      <td>0.361972</td>\n",
       "    </tr>\n",
       "    <tr>\n",
       "      <td>23</td>\n",
       "      <td>12.40</td>\n",
       "      <td>0.458135</td>\n",
       "    </tr>\n",
       "    <tr>\n",
       "      <td>24</td>\n",
       "      <td>8.30</td>\n",
       "      <td>0.420171</td>\n",
       "    </tr>\n",
       "  </tbody>\n",
       "</table>\n",
       "</div>"
      ],
      "text/plain": [
       "    Actual  Predicted\n",
       "0   -19.32  -0.077049\n",
       "1    -4.35  -0.407983\n",
       "2   -27.56  -0.201541\n",
       "3   -29.48  -0.580859\n",
       "4    25.39   0.826122\n",
       "5    12.95   0.587881\n",
       "6    13.57   0.577812\n",
       "7     3.20   0.457457\n",
       "8     4.33   0.454880\n",
       "9     0.98   0.390398\n",
       "10   11.71   0.413841\n",
       "11   14.14   0.550308\n",
       "12    9.53   0.485776\n",
       "13    2.03   0.458860\n",
       "14    1.99   0.450895\n",
       "15    0.33   0.373020\n",
       "16    1.99   0.297170\n",
       "17   13.66   0.440181\n",
       "18    7.37   0.470115\n",
       "19    2.90   0.342828\n",
       "20   11.08   0.499619\n",
       "21   -8.00   0.244313\n",
       "22   -3.62   0.361972\n",
       "23   12.40   0.458135\n",
       "24    8.30   0.420171"
      ]
     },
     "execution_count": 69,
     "metadata": {},
     "output_type": "execute_result"
    }
   ],
   "source": [
    "df1 = pd.DataFrame({'Actual': y_test, 'Predicted': y_pred})\n",
    "df1.head(25)"
   ]
  },
  {
   "cell_type": "code",
   "execution_count": 70,
   "metadata": {},
   "outputs": [
    {
     "data": {
      "image/png": "[encoded data removed]",
      "text/plain": [
       "<Figure size 720x576 with 1 Axes>"
      ]
     },
     "metadata": {},
     "output_type": "display_data"
    }
   ],
   "source": [
    "df1.plot(kind='bar',figsize=(10,8))\n",
    "plt.show()"
   ]
  },
  {
   "cell_type": "markdown",
   "metadata": {},
   "source": [
    "**Using this model, the output shows that there is a variance between actual vs predicted values.\n",
    "We'll use the following function to get K-Fold cross validation scores for our model:**"
   ]
  },
  {
   "cell_type": "code",
   "execution_count": 82,
   "metadata": {},
   "outputs": [
    {
     "data": {
      "text/plain": [
       "array([0.87927348, 0.39764794, 0.06236017, 0.06008879, 0.00728564])"
      ]
     },
     "execution_count": 82,
     "metadata": {},
     "output_type": "execute_result"
    }
   ],
   "source": [
    "#I used this CV for time-series: http://www.zhengwenjie.net/tscv/\n",
    "#The intuition behind this package is that, by introducing gaps between the training set and the test set, the temporal dependence can be mitigated. Hence, after introducing the gap, leaving p out, K-Fold, and so forth are once again valid. Researches show that cross-validation with gaps outperforms the one without gaps.\n",
    "from tscv import GapKFold\n",
    "cv = GapKFold(n_splits=5, gap_before=5, gap_after=5)\n",
    "scores = cross_val_score(regressor, X, y, cv=cv)\n",
    "scores"
   ]
  },
  {
   "cell_type": "markdown",
   "metadata": {},
   "source": [
    "**Using this model, the output shows that the mean scores are imbalanced and decreased, indicating that the prediction is not accurate.**"
   ]
  },
  {
   "cell_type": "code",
   "execution_count": 29,
   "metadata": {},
   "outputs": [
    {
     "data": {
      "text/plain": [
       "Ridge(alpha=1, copy_X=True, fit_intercept=True, max_iter=None, normalize=False,\n",
       "      random_state=None, solver='auto', tol=0.001)"
      ]
     },
     "execution_count": 29,
     "metadata": {},
     "output_type": "execute_result"
    }
   ],
   "source": [
    "#Let’s see if we can improve performance using Scikit-Learn’s Ridge class::\n",
    "regressor = Ridge(alpha=1)  \n",
    "regressor.fit(X_train, y_train)"
   ]
  },
  {
   "cell_type": "code",
   "execution_count": 30,
   "metadata": {},
   "outputs": [
    {
     "name": "stdout",
     "output_type": "stream",
     "text": [
      "CV Mean:  0.1902934008094425\n",
      "STD:  0.039779411756364604\n",
      "\n",
      "\n"
     ]
    }
   ],
   "source": [
    "# get cross val scores\n",
    "get_cv_scores(regressor)"
   ]
  },
  {
   "cell_type": "markdown",
   "metadata": {},
   "source": [
    "**A average r square score of 0.1902 means we are only able to explain 19% of the variance with our Ridge Regression model, which is not an improvement from linear regression above. However, the SD decreased which suggests we are less likely to be overfitting.**"
   ]
  },
  {
   "cell_type": "markdown",
   "metadata": {},
   "source": [
    "# Optimizing the Model:"
   ]
  },
  {
   "cell_type": "markdown",
   "metadata": {},
   "source": [
    "**Let’s see if we can improve the r square score by changing our alpha value. We’ll use grid search to find an optimal alpha value:**"
   ]
  },
  {
   "cell_type": "code",
   "execution_count": 83,
   "metadata": {},
   "outputs": [
    {
     "ename": "NameError",
     "evalue": "name 'TimeSeriesSplit' is not defined",
     "output_type": "error",
     "traceback": [
      "\u001b[1;31m---------------------------------------------------------------------------\u001b[0m",
      "\u001b[1;31mNameError\u001b[0m                                 Traceback (most recent call last)",
      "\u001b[1;32m<ipython-input-83-5a5e0ec07737>\u001b[0m in \u001b[0;36m<module>\u001b[1;34m\u001b[0m\n\u001b[0;32m      2\u001b[0m \u001b[0malpha\u001b[0m \u001b[1;33m=\u001b[0m \u001b[1;33m[\u001b[0m\u001b[1;36m0.001\u001b[0m\u001b[1;33m,\u001b[0m \u001b[1;36m0.01\u001b[0m\u001b[1;33m,\u001b[0m \u001b[1;36m0.1\u001b[0m\u001b[1;33m,\u001b[0m \u001b[1;36m1\u001b[0m\u001b[1;33m,\u001b[0m \u001b[1;36m10\u001b[0m\u001b[1;33m,\u001b[0m \u001b[1;36m100\u001b[0m\u001b[1;33m,\u001b[0m \u001b[1;36m1000\u001b[0m\u001b[1;33m]\u001b[0m\u001b[1;33m\u001b[0m\u001b[1;33m\u001b[0m\u001b[0m\n\u001b[0;32m      3\u001b[0m \u001b[0mparam_grid\u001b[0m \u001b[1;33m=\u001b[0m \u001b[0mdict\u001b[0m\u001b[1;33m(\u001b[0m\u001b[0malpha\u001b[0m\u001b[1;33m=\u001b[0m\u001b[0malpha\u001b[0m\u001b[1;33m)\u001b[0m\u001b[1;33m\u001b[0m\u001b[1;33m\u001b[0m\u001b[0m\n\u001b[1;32m----> 4\u001b[1;33m \u001b[0mgrid\u001b[0m \u001b[1;33m=\u001b[0m \u001b[0mGridSearchCV\u001b[0m\u001b[1;33m(\u001b[0m\u001b[0mestimator\u001b[0m\u001b[1;33m=\u001b[0m\u001b[0mregressor\u001b[0m\u001b[1;33m,\u001b[0m \u001b[0mparam_grid\u001b[0m\u001b[1;33m=\u001b[0m\u001b[0mparam_grid\u001b[0m\u001b[1;33m,\u001b[0m \u001b[0mscoring\u001b[0m\u001b[1;33m=\u001b[0m\u001b[1;34m'r2'\u001b[0m\u001b[1;33m,\u001b[0m \u001b[0mverbose\u001b[0m\u001b[1;33m=\u001b[0m\u001b[1;36m1\u001b[0m\u001b[1;33m,\u001b[0m \u001b[0mn_jobs\u001b[0m\u001b[1;33m=\u001b[0m\u001b[1;33m-\u001b[0m\u001b[1;36m1\u001b[0m\u001b[1;33m,\u001b[0m \u001b[0mcv\u001b[0m \u001b[1;33m=\u001b[0m \u001b[0mTimeSeriesSplit\u001b[0m\u001b[1;33m)\u001b[0m\u001b[1;33m\u001b[0m\u001b[1;33m\u001b[0m\u001b[0m\n\u001b[0m\u001b[0;32m      5\u001b[0m \u001b[0mgrid_result\u001b[0m \u001b[1;33m=\u001b[0m \u001b[0mgrid\u001b[0m\u001b[1;33m.\u001b[0m\u001b[0mfit\u001b[0m\u001b[1;33m(\u001b[0m\u001b[0mX_train\u001b[0m\u001b[1;33m,\u001b[0m \u001b[0my_train\u001b[0m\u001b[1;33m)\u001b[0m\u001b[1;33m\u001b[0m\u001b[1;33m\u001b[0m\u001b[0m\n\u001b[0;32m      6\u001b[0m \u001b[0mprint\u001b[0m\u001b[1;33m(\u001b[0m\u001b[1;34m'Best Score: '\u001b[0m\u001b[1;33m,\u001b[0m \u001b[0mgrid_result\u001b[0m\u001b[1;33m.\u001b[0m\u001b[0mbest_score_\u001b[0m\u001b[1;33m)\u001b[0m\u001b[1;33m\u001b[0m\u001b[1;33m\u001b[0m\u001b[0m\n",
      "\u001b[1;31mNameError\u001b[0m: name 'TimeSeriesSplit' is not defined"
     ]
    }
   ],
   "source": [
    "# find optimal alpha with grid search\n",
    "alpha = [0.001, 0.01, 0.1, 1, 10, 100, 1000]\n",
    "param_grid = dict(alpha=alpha)\n",
    "grid = GridSearchCV(estimator=regressor, param_grid=param_grid, scoring='r2', verbose=1, n_jobs=-1, cv = TimeSeriesSplit)\n",
    "grid_result = grid.fit(X_train, y_train)\n",
    "print('Best Score: ', grid_result.best_score_)\n",
    "print('Best Params: ', grid_result.best_params_)"
   ]
  },
  {
   "cell_type": "markdown",
   "metadata": {},
   "source": [
    "# Discussion & Analysis:"
   ]
  },
  {
   "cell_type": "markdown",
   "metadata": {},
   "source": [
    "**We explored two different linear models for regression:**\n",
    "\n",
    "- Linear Regression\n",
    "\n",
    "- Ridge\n",
    "\n",
    "**We simplified our model with regularization. Unfortunately our R² score remains low. This is probably due to lack of sufficient data. However, in this case I will proceseed with analyzing the data using visualizations:**"
   ]
  },
  {
   "cell_type": "markdown",
   "metadata": {},
   "source": [
    "**Is Bitcoin price likely to increase or decrease in the coming years?**"
   ]
  },
  {
   "cell_type": "code",
   "execution_count": 32,
   "metadata": {},
   "outputs": [
    {
     "data": {
      "image/png": "[encoded data removed]",
      "text/plain": [
       "<Figure size 1080x576 with 2 Axes>"
      ]
     },
     "metadata": {
      "needs_background": "light"
     },
     "output_type": "display_data"
    }
   ],
   "source": [
    "#Draw the Bitcoin Price and Volume history line chart:\n",
    "top = plt.subplot2grid((4,4), (0, 0), rowspan=3, colspan=4)\n",
    "top.plot(df['Date'], df['Price'],\n",
    "         label ='Bitcoin Price in USD')\n",
    "plt.title('Bitcoin Price 2011 - 2019')\n",
    "plt.legend(loc=2)\n",
    "bottom = plt.subplot2grid((4,4), (3,0), rowspan=1, colspan=4)\n",
    "bottom.bar(df['Date'], df['Vol'])\n",
    "plt.title('Bitcoin Trading Volume 2011 - 2019')\n",
    "plt.subplots_adjust(hspace=0.75)\n",
    "plt.gcf().set_size_inches(15,8)"
   ]
  },
  {
   "cell_type": "markdown",
   "metadata": {},
   "source": [
    "According to the chart, the price peaked in 16 Dec 2017, then dropped to its lowest point at 16 Dec 2018, then it started raising again. It is interesting to see that it took exactly 1 year to move from the downtrend to the uptrend."
   ]
  },
  {
   "cell_type": "markdown",
   "metadata": {},
   "source": [
    "**Which date had the most trading volume?**"
   ]
  },
  {
   "cell_type": "code",
   "execution_count": 33,
   "metadata": {},
   "outputs": [
    {
     "data": {
      "text/html": [
       "<div>\n",
       "<style scoped>\n",
       "    .dataframe tbody tr th:only-of-type {\n",
       "        vertical-align: middle;\n",
       "    }\n",
       "\n",
       "    .dataframe tbody tr th {\n",
       "        vertical-align: top;\n",
       "    }\n",
       "\n",
       "    .dataframe thead th {\n",
       "        text-align: right;\n",
       "    }\n",
       "</style>\n",
       "<table border=\"1\" class=\"dataframe\">\n",
       "  <thead>\n",
       "    <tr style=\"text-align: right;\">\n",
       "      <th></th>\n",
       "      <th>Date</th>\n",
       "      <th>Price</th>\n",
       "      <th>Open</th>\n",
       "      <th>High</th>\n",
       "      <th>Low</th>\n",
       "      <th>Vol</th>\n",
       "      <th>Change %</th>\n",
       "    </tr>\n",
       "  </thead>\n",
       "  <tbody>\n",
       "    <tr>\n",
       "      <td>606</td>\n",
       "      <td>2018-02-06</td>\n",
       "      <td>6211.1</td>\n",
       "      <td>5483.5</td>\n",
       "      <td>6426.5</td>\n",
       "      <td>4741.2</td>\n",
       "      <td>105240.0</td>\n",
       "      <td>13.28</td>\n",
       "    </tr>\n",
       "  </tbody>\n",
       "</table>\n",
       "</div>"
      ],
      "text/plain": [
       "          Date   Price    Open    High     Low       Vol  Change %\n",
       "606 2018-02-06  6211.1  5483.5  6426.5  4741.2  105240.0     13.28"
      ]
     },
     "execution_count": 33,
     "metadata": {},
     "output_type": "execute_result"
    }
   ],
   "source": [
    "#Which date had the most trading volume?\n",
    "df[df['Vol'] == df.Vol.max()]"
   ]
  },
  {
   "cell_type": "markdown",
   "metadata": {},
   "source": [
    "The highest volume in Bitcoin history was in 6 Feb 2018, when it reached its lowest price in early 2018."
   ]
  },
  {
   "cell_type": "markdown",
   "metadata": {},
   "source": [
    "**How is the trading volume during the Weekends versus Weekday?**"
   ]
  },
  {
   "cell_type": "code",
   "execution_count": 34,
   "metadata": {},
   "outputs": [],
   "source": [
    "#Now we need to replace the numeric values with strings i norder to categorize them:\n",
    "df['Day'] = df['Date'].dt.dayofweek\n",
    "day = {0: \"Weekday\", 1: \"Weekday\", 2: \"Weekday\", 3: \"Weekday\", 4: \"Weekday\", 5: \"Weekend\", 6: \"Weekend\"}\n",
    "df = df.replace({\"Day\": day})"
   ]
  },
  {
   "cell_type": "code",
   "execution_count": 35,
   "metadata": {},
   "outputs": [
    {
     "name": "stderr",
     "output_type": "stream",
     "text": [
      "C:\\ProgramData\\Anaconda3\\lib\\site-packages\\seaborn\\axisgrid.py:2065: UserWarning: The `size` parameter has been renamed to `height`; pleaes update your code.\n",
      "  warnings.warn(msg, UserWarning)\n"
     ]
    },
    {
     "data": {
      "image/png": "[encoded data removed]",
      "text/plain": [
       "<Figure size 442.75x360 with 1 Axes>"
      ]
     },
     "metadata": {
      "needs_background": "light"
     },
     "output_type": "display_data"
    }
   ],
   "source": [
    "#Draw the the Volume history scatterplot chart by weekday/weekend:\n",
    "ax = sns.pairplot(x_vars=[\"Date\"], y_vars=[\"Vol\"], data=df, hue=\"Day\", size=5);\n",
    "ax.set(xlim = (df.Date.min(), df.Date.max()));\n",
    "ax.fig.suptitle(\"Weekend vs Weekday Volume\", y=1.08);"
   ]
  },
  {
   "cell_type": "markdown",
   "metadata": {},
   "source": [
    "Bitcoin seem to be volatile in both weekdays and weekends. However, most its high volume trading are in the weekdays."
   ]
  },
  {
   "cell_type": "markdown",
   "metadata": {},
   "source": [
    "**Which months during Bitcoin history has the highest increase % and which one has the lowest decrease %?**"
   ]
  },
  {
   "cell_type": "code",
   "execution_count": 36,
   "metadata": {},
   "outputs": [
    {
     "data": {
      "image/png": "[encoded data removed]",
      "text/plain": [
       "<Figure size 432x288 with 1 Axes>"
      ]
     },
     "metadata": {
      "needs_background": "light"
     },
     "output_type": "display_data"
    }
   ],
   "source": [
    "#Which months during Bitcoin history has the highest increase % and which one has the lowest decrease %? \n",
    "df1 = df.groupby(df['Date'].dt.strftime('%B'))['Change %'].sum().sort_values()\n",
    "df1 = df1.plot(x='Date', y='Change %', kind='bar', title='Cumulative Change % by Month');\n",
    "df1.set_ylabel(\"Cumulative Change %\");\n",
    "df1.set_xlabel(\"Month\");"
   ]
  },
  {
   "cell_type": "markdown",
   "metadata": {},
   "source": [
    "# Findings and Conclusion:"
   ]
  },
  {
   "cell_type": "markdown",
   "metadata": {},
   "source": [
    "The data is not sufficent to provide an accurate prediction of the change %. However, the analysis show that in the end, Bitcoin price seems to be increasing steadly from 2011 to 2017, making its all-time high in 16 December 2017. After that, it started its downtrend until it reached its lowest price in 16 Dec 2018, then made its next increase wave.\n",
    "\n",
    "Bitcoin seem to be volatile in both weekdays and weekends. However, most its high volume trading are in the weekdays.\n",
    "\n",
    "The highest volume in Bitcoin history was in 6 Feb 2018, when it reached its lowest price in early 2018.\n",
    "\n",
    "Furthermore, it seems the month that has the most downside is September, while the month that gets its most gains is November."
   ]
  },
  {
   "cell_type": "code",
   "execution_count": null,
   "metadata": {},
   "outputs": [],
   "source": []
  },
  {
   "cell_type": "code",
   "execution_count": null,
   "metadata": {},
   "outputs": [],
   "source": []
  }
 ],
 "metadata": {
  "kernelspec": {
   "display_name": "Python 3",
   "language": "python",
   "name": "python3"
  },
  "language_info": {
   "codemirror_mode": {
    "name": "ipython",
    "version": 3
   },
   "file_extension": ".py",
   "mimetype": "text/x-python",
   "name": "python",
   "nbconvert_exporter": "python",
   "pygments_lexer": "ipython3",
   "version": "3.7.4"
  }
 },
 "nbformat": 4,
 "nbformat_minor": 4
}
