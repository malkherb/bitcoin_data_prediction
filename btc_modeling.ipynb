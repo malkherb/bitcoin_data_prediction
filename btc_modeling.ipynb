{
 "cells": [
  {
   "cell_type": "markdown",
   "metadata": {},
   "source": [
    "# Project Overview:"
   ]
  },
  {
   "cell_type": "markdown",
   "metadata": {},
   "source": [
    "**Problem domain:**\n",
    "\n",
    "An analysis on Jupiter on Bitcoin Historical Data."
   ]
  },
  {
   "cell_type": "markdown",
   "metadata": {},
   "source": [
    "**Project origin and dataset**:\n",
    "\n",
    "The raw data was downloaded directly from djrmarques at Kaggle."
   ]
  },
  {
   "cell_type": "markdown",
   "metadata": {},
   "source": [
    "# Problem Statement:"
   ]
  },
  {
   "cell_type": "markdown",
   "metadata": {},
   "source": [
    "In this project, I have a data set on bitcoin price history. This data set has only hostrical data. I will use this data to check if I can predict future price change."
   ]
  },
  {
   "cell_type": "markdown",
   "metadata": {},
   "source": [
    "# Strategy:"
   ]
  },
  {
   "cell_type": "markdown",
   "metadata": {},
   "source": [
    "First, I will preprocess the data, build a model, optimize it, then use it to predict the future price changes. In addition, I will use the hostrical data to answer several questions including:\n",
    "\n",
    "- Can we predict the change % of Bitcoin price tomorrow using the collected data set ?\n",
    "\n",
    "- Is Bitcoin price likely to increase or decrease in the coming years?\n",
    " \n",
    "- Which date had the most trading volume?\n",
    " \n",
    "- How is the trading volume during the Weekends versus Weekday?\n",
    " \n",
    "- Which months during Bitcoin history has the highest increase % and which one has the lowest decrease %?"
   ]
  },
  {
   "cell_type": "markdown",
   "metadata": {},
   "source": [
    "# Metrics:\n",
    "Metrics to be measured include:\n",
    "\n",
    "- R square and Standard Deviation\n",
    "- Visualizations on the price movements\n",
    "- Visualizations on the Weekdays vs Weekends\n",
    "- Visualizations on the Volumes per Month"
   ]
  },
  {
   "cell_type": "markdown",
   "metadata": {},
   "source": [
    "# Import the data:"
   ]
  },
  {
   "cell_type": "code",
   "execution_count": 233,
   "metadata": {},
   "outputs": [],
   "source": [
    "#Import the libraries:\n",
    "import numpy as np\n",
    "import pandas as pd\n",
    "import matplotlib.pyplot as plt\n",
    "from sklearn.linear_model import LinearRegression\n",
    "from sklearn.model_selection import train_test_split\n",
    "from sklearn.metrics import r2_score, mean_squared_error\n",
    "import seaborn as sns\n",
    "from sklearn.model_selection import train_test_split \n",
    "from sklearn.linear_model import Ridge\n",
    "from sklearn import metrics\n",
    "from sklearn.model_selection import cross_val_score\n",
    "from sklearn import metrics\n",
    "from sklearn.preprocessing import StandardScaler\n",
    "from sklearn.model_selection import train_test_split\n",
    "from sklearn.model_selection import GridSearchCV\n",
    "%matplotlib inline"
   ]
  },
  {
   "cell_type": "code",
   "execution_count": 234,
   "metadata": {},
   "outputs": [
    {
     "data": {
      "text/html": [
       "<div>\n",
       "<style scoped>\n",
       "    .dataframe tbody tr th:only-of-type {\n",
       "        vertical-align: middle;\n",
       "    }\n",
       "\n",
       "    .dataframe tbody tr th {\n",
       "        vertical-align: top;\n",
       "    }\n",
       "\n",
       "    .dataframe thead th {\n",
       "        text-align: right;\n",
       "    }\n",
       "</style>\n",
       "<table border=\"1\" class=\"dataframe\">\n",
       "  <thead>\n",
       "    <tr style=\"text-align: right;\">\n",
       "      <th></th>\n",
       "      <th>Date</th>\n",
       "      <th>Price</th>\n",
       "      <th>Open</th>\n",
       "      <th>High</th>\n",
       "      <th>Low</th>\n",
       "      <th>Vol.</th>\n",
       "      <th>Change %</th>\n",
       "    </tr>\n",
       "  </thead>\n",
       "  <tbody>\n",
       "    <tr>\n",
       "      <th>0</th>\n",
       "      <td>2019-10-05</td>\n",
       "      <td>7,371.0</td>\n",
       "      <td>7,443.6</td>\n",
       "      <td>7,451.8</td>\n",
       "      <td>7,332.5</td>\n",
       "      <td>3.41K</td>\n",
       "      <td>-0.97%</td>\n",
       "    </tr>\n",
       "    <tr>\n",
       "      <th>1</th>\n",
       "      <td>2019-10-04</td>\n",
       "      <td>7,443.4</td>\n",
       "      <td>7,520.4</td>\n",
       "      <td>7,528.0</td>\n",
       "      <td>7,331.9</td>\n",
       "      <td>5.47K</td>\n",
       "      <td>-1.02%</td>\n",
       "    </tr>\n",
       "    <tr>\n",
       "      <th>2</th>\n",
       "      <td>2019-10-03</td>\n",
       "      <td>7,520.4</td>\n",
       "      <td>7,657.2</td>\n",
       "      <td>7,689.6</td>\n",
       "      <td>7,381.7</td>\n",
       "      <td>7.03K</td>\n",
       "      <td>-1.78%</td>\n",
       "    </tr>\n",
       "    <tr>\n",
       "      <th>3</th>\n",
       "      <td>2019-10-02</td>\n",
       "      <td>7,656.9</td>\n",
       "      <td>7,631.3</td>\n",
       "      <td>7,665.7</td>\n",
       "      <td>7,491.3</td>\n",
       "      <td>7.60K</td>\n",
       "      <td>0.34%</td>\n",
       "    </tr>\n",
       "    <tr>\n",
       "      <th>4</th>\n",
       "      <td>2019-10-01</td>\n",
       "      <td>7,631.2</td>\n",
       "      <td>7,627.6</td>\n",
       "      <td>7,825.9</td>\n",
       "      <td>7,540.9</td>\n",
       "      <td>10.76K</td>\n",
       "      <td>0.02%</td>\n",
       "    </tr>\n",
       "  </tbody>\n",
       "</table>\n",
       "</div>"
      ],
      "text/plain": [
       "        Date    Price     Open     High      Low    Vol. Change %\n",
       "0 2019-10-05  7,371.0  7,443.6  7,451.8  7,332.5   3.41K   -0.97%\n",
       "1 2019-10-04  7,443.4  7,520.4  7,528.0  7,331.9   5.47K   -1.02%\n",
       "2 2019-10-03  7,520.4  7,657.2  7,689.6  7,381.7   7.03K   -1.78%\n",
       "3 2019-10-02  7,656.9  7,631.3  7,665.7  7,491.3   7.60K    0.34%\n",
       "4 2019-10-01  7,631.2  7,627.6  7,825.9  7,540.9  10.76K    0.02%"
      ]
     },
     "execution_count": 234,
     "metadata": {},
     "output_type": "execute_result"
    }
   ],
   "source": [
    "#import and parsing dates:\n",
    "#Source: https://www.kaggle.com/djrmarques/bitcoin-daily-data/download\n",
    "df = pd.read_csv('bitcoin_hist_data.csv', decimal=',', parse_dates=['Date'])\n",
    "df.head()"
   ]
  },
  {
   "cell_type": "markdown",
   "metadata": {},
   "source": [
    "# Assess and clean the data:"
   ]
  },
  {
   "cell_type": "code",
   "execution_count": 235,
   "metadata": {},
   "outputs": [
    {
     "name": "stdout",
     "output_type": "stream",
     "text": [
      "<class 'pandas.core.frame.DataFrame'>\n",
      "RangeIndex: 2961 entries, 0 to 2960\n",
      "Data columns (total 7 columns):\n",
      "Date        2961 non-null datetime64[ns]\n",
      "Price       2961 non-null object\n",
      "Open        2961 non-null object\n",
      "High        2961 non-null object\n",
      "Low         2961 non-null object\n",
      "Vol.        2961 non-null object\n",
      "Change %    2961 non-null object\n",
      "dtypes: datetime64[ns](1), object(6)\n",
      "memory usage: 162.0+ KB\n"
     ]
    }
   ],
   "source": [
    "#checking datatypes:\n",
    "df.info()"
   ]
  },
  {
   "cell_type": "code",
   "execution_count": 236,
   "metadata": {},
   "outputs": [],
   "source": [
    "#Convert Change % column to float:\n",
    "df['Change %'].replace(to_replace=['%'], value='', regex=True, inplace=True)\n",
    "df['Change %'] = df['Change %'].str.replace('−', '-').astype(float)"
   ]
  },
  {
   "cell_type": "code",
   "execution_count": 237,
   "metadata": {},
   "outputs": [],
   "source": [
    "#rename Volume column:\n",
    "df = df.rename({'Vol.':'Vol'}, axis=1)"
   ]
  },
  {
   "cell_type": "code",
   "execution_count": 238,
   "metadata": {},
   "outputs": [],
   "source": [
    "#Remove commans to change dtypes:\n",
    "df.replace(to_replace=[','], value='', regex=True, inplace=True)\n",
    "#Replace units to be able to convrt Vol. from string to float:\n",
    "df['Vol'] = df['Vol'].str.translate(str.maketrans({'K':'0','M':'000000','.':'','-':np.nan}))"
   ]
  },
  {
   "cell_type": "code",
   "execution_count": 239,
   "metadata": {},
   "outputs": [
    {
     "data": {
      "text/html": [
       "<div>\n",
       "<style scoped>\n",
       "    .dataframe tbody tr th:only-of-type {\n",
       "        vertical-align: middle;\n",
       "    }\n",
       "\n",
       "    .dataframe tbody tr th {\n",
       "        vertical-align: top;\n",
       "    }\n",
       "\n",
       "    .dataframe thead th {\n",
       "        text-align: right;\n",
       "    }\n",
       "</style>\n",
       "<table border=\"1\" class=\"dataframe\">\n",
       "  <thead>\n",
       "    <tr style=\"text-align: right;\">\n",
       "      <th></th>\n",
       "      <th>Date</th>\n",
       "      <th>Price</th>\n",
       "      <th>Open</th>\n",
       "      <th>High</th>\n",
       "      <th>Low</th>\n",
       "      <th>Vol</th>\n",
       "      <th>Change %</th>\n",
       "    </tr>\n",
       "  </thead>\n",
       "  <tbody>\n",
       "    <tr>\n",
       "      <th>0</th>\n",
       "      <td>2019-10-05</td>\n",
       "      <td>7371.0</td>\n",
       "      <td>7443.6</td>\n",
       "      <td>7451.8</td>\n",
       "      <td>7332.5</td>\n",
       "      <td>3410</td>\n",
       "      <td>-0.97</td>\n",
       "    </tr>\n",
       "    <tr>\n",
       "      <th>1</th>\n",
       "      <td>2019-10-04</td>\n",
       "      <td>7443.4</td>\n",
       "      <td>7520.4</td>\n",
       "      <td>7528.0</td>\n",
       "      <td>7331.9</td>\n",
       "      <td>5470</td>\n",
       "      <td>-1.02</td>\n",
       "    </tr>\n",
       "    <tr>\n",
       "      <th>2</th>\n",
       "      <td>2019-10-03</td>\n",
       "      <td>7520.4</td>\n",
       "      <td>7657.2</td>\n",
       "      <td>7689.6</td>\n",
       "      <td>7381.7</td>\n",
       "      <td>7030</td>\n",
       "      <td>-1.78</td>\n",
       "    </tr>\n",
       "    <tr>\n",
       "      <th>3</th>\n",
       "      <td>2019-10-02</td>\n",
       "      <td>7656.9</td>\n",
       "      <td>7631.3</td>\n",
       "      <td>7665.7</td>\n",
       "      <td>7491.3</td>\n",
       "      <td>7600</td>\n",
       "      <td>0.34</td>\n",
       "    </tr>\n",
       "    <tr>\n",
       "      <th>4</th>\n",
       "      <td>2019-10-01</td>\n",
       "      <td>7631.2</td>\n",
       "      <td>7627.6</td>\n",
       "      <td>7825.9</td>\n",
       "      <td>7540.9</td>\n",
       "      <td>10760</td>\n",
       "      <td>0.02</td>\n",
       "    </tr>\n",
       "  </tbody>\n",
       "</table>\n",
       "</div>"
      ],
      "text/plain": [
       "        Date   Price    Open    High     Low    Vol  Change %\n",
       "0 2019-10-05  7371.0  7443.6  7451.8  7332.5   3410     -0.97\n",
       "1 2019-10-04  7443.4  7520.4  7528.0  7331.9   5470     -1.02\n",
       "2 2019-10-03  7520.4  7657.2  7689.6  7381.7   7030     -1.78\n",
       "3 2019-10-02  7656.9  7631.3  7665.7  7491.3   7600      0.34\n",
       "4 2019-10-01  7631.2  7627.6  7825.9  7540.9  10760      0.02"
      ]
     },
     "execution_count": 239,
     "metadata": {},
     "output_type": "execute_result"
    }
   ],
   "source": [
    "df.head()"
   ]
  },
  {
   "cell_type": "code",
   "execution_count": 240,
   "metadata": {},
   "outputs": [],
   "source": [
    "#changing columns types to float type for our analysis:\n",
    "df[['Price', 'Open', 'High', 'Low', 'Vol']] = df[['Price', 'Open', 'High', 'Low', 'Vol']].astype(float)"
   ]
  },
  {
   "cell_type": "code",
   "execution_count": 241,
   "metadata": {},
   "outputs": [
    {
     "name": "stdout",
     "output_type": "stream",
     "text": [
      "<class 'pandas.core.frame.DataFrame'>\n",
      "RangeIndex: 2961 entries, 0 to 2960\n",
      "Data columns (total 7 columns):\n",
      "Date        2961 non-null datetime64[ns]\n",
      "Price       2961 non-null float64\n",
      "Open        2961 non-null float64\n",
      "High        2961 non-null float64\n",
      "Low         2961 non-null float64\n",
      "Vol         2943 non-null float64\n",
      "Change %    2961 non-null float64\n",
      "dtypes: datetime64[ns](1), float64(6)\n",
      "memory usage: 162.0 KB\n"
     ]
    }
   ],
   "source": [
    "df.info()"
   ]
  },
  {
   "cell_type": "code",
   "execution_count": 242,
   "metadata": {},
   "outputs": [
    {
     "data": {
      "text/plain": [
       "(2961, 7)"
      ]
     },
     "execution_count": 242,
     "metadata": {},
     "output_type": "execute_result"
    }
   ],
   "source": [
    "#Checking the shape of the dataframe:\n",
    "df.shape"
   ]
  },
  {
   "cell_type": "code",
   "execution_count": 243,
   "metadata": {},
   "outputs": [],
   "source": [
    "#Drop NaNs rows:\n",
    "df = df.dropna(how='any', axis=0)  "
   ]
  },
  {
   "cell_type": "code",
   "execution_count": 244,
   "metadata": {},
   "outputs": [
    {
     "data": {
      "text/plain": [
       "(2943, 7)"
      ]
     },
     "execution_count": 244,
     "metadata": {},
     "output_type": "execute_result"
    }
   ],
   "source": [
    "#Checking the shape of the dataset:\n",
    "df.shape"
   ]
  },
  {
   "cell_type": "code",
   "execution_count": 245,
   "metadata": {},
   "outputs": [],
   "source": [
    "#df['Up_Down'] = np.where(df['Change %']>0, 'Up', 'Down')"
   ]
  },
  {
   "cell_type": "code",
   "execution_count": 246,
   "metadata": {},
   "outputs": [
    {
     "data": {
      "text/html": [
       "<div>\n",
       "<style scoped>\n",
       "    .dataframe tbody tr th:only-of-type {\n",
       "        vertical-align: middle;\n",
       "    }\n",
       "\n",
       "    .dataframe tbody tr th {\n",
       "        vertical-align: top;\n",
       "    }\n",
       "\n",
       "    .dataframe thead th {\n",
       "        text-align: right;\n",
       "    }\n",
       "</style>\n",
       "<table border=\"1\" class=\"dataframe\">\n",
       "  <thead>\n",
       "    <tr style=\"text-align: right;\">\n",
       "      <th></th>\n",
       "      <th>Date</th>\n",
       "      <th>Price</th>\n",
       "      <th>Open</th>\n",
       "      <th>High</th>\n",
       "      <th>Low</th>\n",
       "      <th>Vol</th>\n",
       "      <th>Change %</th>\n",
       "    </tr>\n",
       "  </thead>\n",
       "  <tbody>\n",
       "    <tr>\n",
       "      <th>0</th>\n",
       "      <td>2019-10-05</td>\n",
       "      <td>7371.0</td>\n",
       "      <td>7443.6</td>\n",
       "      <td>7451.8</td>\n",
       "      <td>7332.5</td>\n",
       "      <td>3410.0</td>\n",
       "      <td>-0.97</td>\n",
       "    </tr>\n",
       "    <tr>\n",
       "      <th>1</th>\n",
       "      <td>2019-10-04</td>\n",
       "      <td>7443.4</td>\n",
       "      <td>7520.4</td>\n",
       "      <td>7528.0</td>\n",
       "      <td>7331.9</td>\n",
       "      <td>5470.0</td>\n",
       "      <td>-1.02</td>\n",
       "    </tr>\n",
       "    <tr>\n",
       "      <th>2</th>\n",
       "      <td>2019-10-03</td>\n",
       "      <td>7520.4</td>\n",
       "      <td>7657.2</td>\n",
       "      <td>7689.6</td>\n",
       "      <td>7381.7</td>\n",
       "      <td>7030.0</td>\n",
       "      <td>-1.78</td>\n",
       "    </tr>\n",
       "    <tr>\n",
       "      <th>3</th>\n",
       "      <td>2019-10-02</td>\n",
       "      <td>7656.9</td>\n",
       "      <td>7631.3</td>\n",
       "      <td>7665.7</td>\n",
       "      <td>7491.3</td>\n",
       "      <td>7600.0</td>\n",
       "      <td>0.34</td>\n",
       "    </tr>\n",
       "    <tr>\n",
       "      <th>4</th>\n",
       "      <td>2019-10-01</td>\n",
       "      <td>7631.2</td>\n",
       "      <td>7627.6</td>\n",
       "      <td>7825.9</td>\n",
       "      <td>7540.9</td>\n",
       "      <td>10760.0</td>\n",
       "      <td>0.02</td>\n",
       "    </tr>\n",
       "  </tbody>\n",
       "</table>\n",
       "</div>"
      ],
      "text/plain": [
       "        Date   Price    Open    High     Low      Vol  Change %\n",
       "0 2019-10-05  7371.0  7443.6  7451.8  7332.5   3410.0     -0.97\n",
       "1 2019-10-04  7443.4  7520.4  7528.0  7331.9   5470.0     -1.02\n",
       "2 2019-10-03  7520.4  7657.2  7689.6  7381.7   7030.0     -1.78\n",
       "3 2019-10-02  7656.9  7631.3  7665.7  7491.3   7600.0      0.34\n",
       "4 2019-10-01  7631.2  7627.6  7825.9  7540.9  10760.0      0.02"
      ]
     },
     "execution_count": 246,
     "metadata": {},
     "output_type": "execute_result"
    }
   ],
   "source": [
    "df.head()"
   ]
  },
  {
   "cell_type": "markdown",
   "metadata": {},
   "source": [
    "# Building a Model:"
   ]
  },
  {
   "cell_type": "code",
   "execution_count": 247,
   "metadata": {},
   "outputs": [],
   "source": [
    "X = df.iloc[:, 1:6].values\n",
    "y = df.iloc[:, 6].values"
   ]
  },
  {
   "cell_type": "code",
   "execution_count": 248,
   "metadata": {},
   "outputs": [],
   "source": [
    "X_train, X_test, y_train, y_test = train_test_split(X, y, test_size=0.2, random_state=2)"
   ]
  },
  {
   "cell_type": "code",
   "execution_count": 249,
   "metadata": {},
   "outputs": [],
   "source": [
    "# Feature Scaling\n",
    "sc = StandardScaler()\n",
    "X_train = sc.fit_transform(X_train)\n",
    "X_test = sc.transform(X_test)"
   ]
  },
  {
   "cell_type": "code",
   "execution_count": 250,
   "metadata": {},
   "outputs": [],
   "source": [
    "regressor = LinearRegression()  \n",
    "regressor.fit(X_train, y_train)\n",
    "y_pred = regressor.predict(X_test)"
   ]
  },
  {
   "cell_type": "code",
   "execution_count": 251,
   "metadata": {},
   "outputs": [
    {
     "data": {
      "text/html": [
       "<div>\n",
       "<style scoped>\n",
       "    .dataframe tbody tr th:only-of-type {\n",
       "        vertical-align: middle;\n",
       "    }\n",
       "\n",
       "    .dataframe tbody tr th {\n",
       "        vertical-align: top;\n",
       "    }\n",
       "\n",
       "    .dataframe thead th {\n",
       "        text-align: right;\n",
       "    }\n",
       "</style>\n",
       "<table border=\"1\" class=\"dataframe\">\n",
       "  <thead>\n",
       "    <tr style=\"text-align: right;\">\n",
       "      <th></th>\n",
       "      <th>Actual</th>\n",
       "      <th>Predicted</th>\n",
       "    </tr>\n",
       "  </thead>\n",
       "  <tbody>\n",
       "    <tr>\n",
       "      <th>0</th>\n",
       "      <td>-1.11</td>\n",
       "      <td>0.426447</td>\n",
       "    </tr>\n",
       "    <tr>\n",
       "      <th>1</th>\n",
       "      <td>0.00</td>\n",
       "      <td>0.499207</td>\n",
       "    </tr>\n",
       "    <tr>\n",
       "      <th>2</th>\n",
       "      <td>0.68</td>\n",
       "      <td>0.560684</td>\n",
       "    </tr>\n",
       "    <tr>\n",
       "      <th>3</th>\n",
       "      <td>1.97</td>\n",
       "      <td>2.020475</td>\n",
       "    </tr>\n",
       "    <tr>\n",
       "      <th>4</th>\n",
       "      <td>0.81</td>\n",
       "      <td>0.166182</td>\n",
       "    </tr>\n",
       "    <tr>\n",
       "      <th>5</th>\n",
       "      <td>0.08</td>\n",
       "      <td>0.387424</td>\n",
       "    </tr>\n",
       "    <tr>\n",
       "      <th>6</th>\n",
       "      <td>-7.77</td>\n",
       "      <td>-1.823016</td>\n",
       "    </tr>\n",
       "    <tr>\n",
       "      <th>7</th>\n",
       "      <td>3.94</td>\n",
       "      <td>0.346873</td>\n",
       "    </tr>\n",
       "    <tr>\n",
       "      <th>8</th>\n",
       "      <td>-1.88</td>\n",
       "      <td>0.485369</td>\n",
       "    </tr>\n",
       "    <tr>\n",
       "      <th>9</th>\n",
       "      <td>2.87</td>\n",
       "      <td>0.374200</td>\n",
       "    </tr>\n",
       "    <tr>\n",
       "      <th>10</th>\n",
       "      <td>-3.31</td>\n",
       "      <td>0.363303</td>\n",
       "    </tr>\n",
       "    <tr>\n",
       "      <th>11</th>\n",
       "      <td>0.98</td>\n",
       "      <td>0.302452</td>\n",
       "    </tr>\n",
       "    <tr>\n",
       "      <th>12</th>\n",
       "      <td>-3.92</td>\n",
       "      <td>-2.946737</td>\n",
       "    </tr>\n",
       "    <tr>\n",
       "      <th>13</th>\n",
       "      <td>1.90</td>\n",
       "      <td>0.509557</td>\n",
       "    </tr>\n",
       "    <tr>\n",
       "      <th>14</th>\n",
       "      <td>0.00</td>\n",
       "      <td>0.430128</td>\n",
       "    </tr>\n",
       "    <tr>\n",
       "      <th>15</th>\n",
       "      <td>4.20</td>\n",
       "      <td>0.220109</td>\n",
       "    </tr>\n",
       "    <tr>\n",
       "      <th>16</th>\n",
       "      <td>0.36</td>\n",
       "      <td>0.315540</td>\n",
       "    </tr>\n",
       "    <tr>\n",
       "      <th>17</th>\n",
       "      <td>0.06</td>\n",
       "      <td>0.461043</td>\n",
       "    </tr>\n",
       "    <tr>\n",
       "      <th>18</th>\n",
       "      <td>-3.30</td>\n",
       "      <td>-0.081784</td>\n",
       "    </tr>\n",
       "    <tr>\n",
       "      <th>19</th>\n",
       "      <td>-1.38</td>\n",
       "      <td>0.335889</td>\n",
       "    </tr>\n",
       "    <tr>\n",
       "      <th>20</th>\n",
       "      <td>3.12</td>\n",
       "      <td>0.570579</td>\n",
       "    </tr>\n",
       "    <tr>\n",
       "      <th>21</th>\n",
       "      <td>0.92</td>\n",
       "      <td>0.330121</td>\n",
       "    </tr>\n",
       "    <tr>\n",
       "      <th>22</th>\n",
       "      <td>2.84</td>\n",
       "      <td>3.696792</td>\n",
       "    </tr>\n",
       "    <tr>\n",
       "      <th>23</th>\n",
       "      <td>-0.03</td>\n",
       "      <td>0.452000</td>\n",
       "    </tr>\n",
       "    <tr>\n",
       "      <th>24</th>\n",
       "      <td>4.06</td>\n",
       "      <td>3.629942</td>\n",
       "    </tr>\n",
       "  </tbody>\n",
       "</table>\n",
       "</div>"
      ],
      "text/plain": [
       "    Actual  Predicted\n",
       "0    -1.11   0.426447\n",
       "1     0.00   0.499207\n",
       "2     0.68   0.560684\n",
       "3     1.97   2.020475\n",
       "4     0.81   0.166182\n",
       "5     0.08   0.387424\n",
       "6    -7.77  -1.823016\n",
       "7     3.94   0.346873\n",
       "8    -1.88   0.485369\n",
       "9     2.87   0.374200\n",
       "10   -3.31   0.363303\n",
       "11    0.98   0.302452\n",
       "12   -3.92  -2.946737\n",
       "13    1.90   0.509557\n",
       "14    0.00   0.430128\n",
       "15    4.20   0.220109\n",
       "16    0.36   0.315540\n",
       "17    0.06   0.461043\n",
       "18   -3.30  -0.081784\n",
       "19   -1.38   0.335889\n",
       "20    3.12   0.570579\n",
       "21    0.92   0.330121\n",
       "22    2.84   3.696792\n",
       "23   -0.03   0.452000\n",
       "24    4.06   3.629942"
      ]
     },
     "execution_count": 251,
     "metadata": {},
     "output_type": "execute_result"
    }
   ],
   "source": [
    "df1 = pd.DataFrame({'Actual': y_test, 'Predicted': y_pred})\n",
    "df1.head(25)"
   ]
  },
  {
   "cell_type": "code",
   "execution_count": 252,
   "metadata": {},
   "outputs": [
    {
     "data": {
      "image/png": "[encoded data removed]",
      "text/plain": [
       "<Figure size 720x576 with 1 Axes>"
      ]
     },
     "metadata": {
      "needs_background": "light"
     },
     "output_type": "display_data"
    }
   ],
   "source": [
    "df1.plot(kind='bar',figsize=(10,8))\n",
    "plt.show()"
   ]
  },
  {
   "cell_type": "markdown",
   "metadata": {},
   "source": [
    "**Using this model, the output shows that there is a variance between actual vs predicted values.\n",
    "We'll use the following function to get cross validation scores for our model:**"
   ]
  },
  {
   "cell_type": "code",
   "execution_count": 253,
   "metadata": {},
   "outputs": [],
   "source": [
    "# function to get cross validation scores\n",
    "def get_cv_scores(model):\n",
    "    '''\n",
    "    INPUT:\n",
    "    model - the algorthim used\n",
    "    \n",
    "    OUTPUT:\n",
    "    CV Mean: - The average score of the crossvalidation\n",
    "    STD - The Standard Deviation of the crossvalidation\n",
    "    Other Details - \n",
    "     '''\n",
    "    scores = cross_val_score(model,\n",
    "                             X_train,\n",
    "                             y_train,\n",
    "                             cv=5,\n",
    "                             scoring='r2')\n",
    "    \n",
    "    print('CV Mean: ', np.mean(scores))\n",
    "    print('STD: ', np.std(scores))\n",
    "    print('\\n')"
   ]
  },
  {
   "cell_type": "code",
   "execution_count": 254,
   "metadata": {},
   "outputs": [
    {
     "name": "stdout",
     "output_type": "stream",
     "text": [
      "CV Mean:  0.19981974319130982\n",
      "STD:  0.04074629399794976\n",
      "\n",
      "\n"
     ]
    }
   ],
   "source": [
    "# get cross val scores\n",
    "get_cv_scores(regressor)"
   ]
  },
  {
   "cell_type": "markdown",
   "metadata": {},
   "source": [
    "**R square value of 0.199 and SD of 0.0407. The low r square value shows that our model is not accurate. The SD value indicates we may be overfitting the training data.**"
   ]
  },
  {
   "cell_type": "code",
   "execution_count": 255,
   "metadata": {},
   "outputs": [
    {
     "data": {
      "text/plain": [
       "Ridge(alpha=1, copy_X=True, fit_intercept=True, max_iter=None, normalize=False,\n",
       "      random_state=None, solver='auto', tol=0.001)"
      ]
     },
     "execution_count": 255,
     "metadata": {},
     "output_type": "execute_result"
    }
   ],
   "source": [
    "#Let’s see if we can improve performance using Scikit-Learn’s Ridge class::\n",
    "regressor = Ridge(alpha=1)  \n",
    "regressor.fit(X_train, y_train)"
   ]
  },
  {
   "cell_type": "code",
   "execution_count": 256,
   "metadata": {},
   "outputs": [
    {
     "name": "stdout",
     "output_type": "stream",
     "text": [
      "CV Mean:  0.1902934008094425\n",
      "STD:  0.039779411756364604\n",
      "\n",
      "\n"
     ]
    }
   ],
   "source": [
    "# get cross val scores\n",
    "get_cv_scores(regressor)"
   ]
  },
  {
   "cell_type": "markdown",
   "metadata": {},
   "source": [
    "**A average r square score of 0.1902 means we are only able to explain 19% of the variance with our Ridge Regression model, which is not an improvement from linear regression above. However, the SD decreased which suggests we are less likely to be overfitting.**"
   ]
  },
  {
   "cell_type": "markdown",
   "metadata": {},
   "source": [
    "# Optimizing the Model:"
   ]
  },
  {
   "cell_type": "markdown",
   "metadata": {},
   "source": [
    "**Let’s see if we can improve the r square score by changing our alpha value. We’ll use grid search to find an optimal alpha value:**"
   ]
  },
  {
   "cell_type": "code",
   "execution_count": 257,
   "metadata": {},
   "outputs": [
    {
     "name": "stdout",
     "output_type": "stream",
     "text": [
      "Fitting 3 folds for each of 7 candidates, totalling 21 fits\n",
      "Best Score:  0.20902367776213257\n",
      "Best Params:  {'alpha': 0.1}\n"
     ]
    },
    {
     "name": "stderr",
     "output_type": "stream",
     "text": [
      "C:\\ProgramData\\Anaconda3\\lib\\site-packages\\sklearn\\model_selection\\_split.py:1978: FutureWarning: The default value of cv will change from 3 to 5 in version 0.22. Specify it explicitly to silence this warning.\n",
      "  warnings.warn(CV_WARNING, FutureWarning)\n",
      "[Parallel(n_jobs=-1)]: Using backend LokyBackend with 8 concurrent workers.\n",
      "[Parallel(n_jobs=-1)]: Done   6 out of  21 | elapsed:    0.0s remaining:    0.0s\n",
      "[Parallel(n_jobs=-1)]: Done  21 out of  21 | elapsed:    0.0s finished\n"
     ]
    }
   ],
   "source": [
    "# find optimal alpha with grid search\n",
    "alpha = [0.001, 0.01, 0.1, 1, 10, 100, 1000]\n",
    "param_grid = dict(alpha=alpha)\n",
    "grid = GridSearchCV(estimator=regressor, param_grid=param_grid, scoring='r2', verbose=1, n_jobs=-1)\n",
    "grid_result = grid.fit(X_train, y_train)\n",
    "print('Best Score: ', grid_result.best_score_)\n",
    "print('Best Params: ', grid_result.best_params_)"
   ]
  },
  {
   "cell_type": "markdown",
   "metadata": {},
   "source": [
    "# Discussion & Analysis:"
   ]
  },
  {
   "cell_type": "markdown",
   "metadata": {},
   "source": [
    "**We explored two different linear models for regression:**\n",
    "\n",
    "- Linear Regression\n",
    "\n",
    "- Ridge\n",
    "\n",
    "**We simplified our model with regularization. Unfortunately our R² score remains low. This is probably due to lack of sufficient data. However, in this case I will proceseed with analyzing the data using visualizations:**"
   ]
  },
  {
   "cell_type": "markdown",
   "metadata": {},
   "source": [
    "**Is Bitcoin price likely to increase or decrease in the coming years?**"
   ]
  },
  {
   "cell_type": "code",
   "execution_count": 258,
   "metadata": {},
   "outputs": [
    {
     "data": {
      "image/png": "[encoded data removed]",
      "text/plain": [
       "<Figure size 1080x576 with 2 Axes>"
      ]
     },
     "metadata": {
      "needs_background": "light"
     },
     "output_type": "display_data"
    }
   ],
   "source": [
    "#Draw the Bitcoin Price and Volume history line chart:\n",
    "top = plt.subplot2grid((4,4), (0, 0), rowspan=3, colspan=4)\n",
    "top.plot(df['Date'], df['Price'],\n",
    "         label ='Bitcoin Price in USD')\n",
    "plt.title('Bitcoin Price 2011 - 2019')\n",
    "plt.legend(loc=2)\n",
    "bottom = plt.subplot2grid((4,4), (3,0), rowspan=1, colspan=4)\n",
    "bottom.bar(df['Date'], df['Vol'])\n",
    "plt.title('Bitcoin Trading Volume 2011 - 2019')\n",
    "plt.subplots_adjust(hspace=0.75)\n",
    "plt.gcf().set_size_inches(15,8)"
   ]
  },
  {
   "cell_type": "markdown",
   "metadata": {},
   "source": [
    "According to the chart, the price peaked in 16 Dec 2017, then dropped to its lowest point at 16 Dec 2018, then it started raising again. It is interesting to see that it took exactly 1 year to move from the downtrend to the uptrend."
   ]
  },
  {
   "cell_type": "markdown",
   "metadata": {},
   "source": [
    "**Which date had the most trading volume?**"
   ]
  },
  {
   "cell_type": "code",
   "execution_count": 259,
   "metadata": {},
   "outputs": [
    {
     "data": {
      "text/html": [
       "<div>\n",
       "<style scoped>\n",
       "    .dataframe tbody tr th:only-of-type {\n",
       "        vertical-align: middle;\n",
       "    }\n",
       "\n",
       "    .dataframe tbody tr th {\n",
       "        vertical-align: top;\n",
       "    }\n",
       "\n",
       "    .dataframe thead th {\n",
       "        text-align: right;\n",
       "    }\n",
       "</style>\n",
       "<table border=\"1\" class=\"dataframe\">\n",
       "  <thead>\n",
       "    <tr style=\"text-align: right;\">\n",
       "      <th></th>\n",
       "      <th>Date</th>\n",
       "      <th>Price</th>\n",
       "      <th>Open</th>\n",
       "      <th>High</th>\n",
       "      <th>Low</th>\n",
       "      <th>Vol</th>\n",
       "      <th>Change %</th>\n",
       "    </tr>\n",
       "  </thead>\n",
       "  <tbody>\n",
       "    <tr>\n",
       "      <th>606</th>\n",
       "      <td>2018-02-06</td>\n",
       "      <td>6211.1</td>\n",
       "      <td>5483.5</td>\n",
       "      <td>6426.5</td>\n",
       "      <td>4741.2</td>\n",
       "      <td>105240.0</td>\n",
       "      <td>13.28</td>\n",
       "    </tr>\n",
       "  </tbody>\n",
       "</table>\n",
       "</div>"
      ],
      "text/plain": [
       "          Date   Price    Open    High     Low       Vol  Change %\n",
       "606 2018-02-06  6211.1  5483.5  6426.5  4741.2  105240.0     13.28"
      ]
     },
     "execution_count": 259,
     "metadata": {},
     "output_type": "execute_result"
    }
   ],
   "source": [
    "#Which date had the most trading volume?\n",
    "df[df['Vol'] == df.Vol.max()]"
   ]
  },
  {
   "cell_type": "markdown",
   "metadata": {},
   "source": [
    "The highest volume in Bitcoin history was in 6 Feb 2018, when it reached its lowest price in early 2018."
   ]
  },
  {
   "cell_type": "markdown",
   "metadata": {},
   "source": [
    "**How is the trading volume during the Weekends versus Weekday?**"
   ]
  },
  {
   "cell_type": "code",
   "execution_count": 260,
   "metadata": {},
   "outputs": [],
   "source": [
    "#Now we need to replace the numeric values with strings i norder to categorize them:\n",
    "df['Day'] = df['Date'].dt.dayofweek\n",
    "day = {0: \"Weekday\", 1: \"Weekday\", 2: \"Weekday\", 3: \"Weekday\", 4: \"Weekday\", 5: \"Weekend\", 6: \"Weekend\"}\n",
    "df = df.replace({\"Day\": day})"
   ]
  },
  {
   "cell_type": "code",
   "execution_count": 261,
   "metadata": {},
   "outputs": [
    {
     "name": "stderr",
     "output_type": "stream",
     "text": [
      "C:\\ProgramData\\Anaconda3\\lib\\site-packages\\seaborn\\axisgrid.py:2065: UserWarning: The `size` parameter has been renamed to `height`; pleaes update your code.\n",
      "  warnings.warn(msg, UserWarning)\n"
     ]
    },
    {
     "data": {
      "image/png": "[encoded data removed]",
      "text/plain": [
       "<Figure size 442.75x360 with 1 Axes>"
      ]
     },
     "metadata": {
      "needs_background": "light"
     },
     "output_type": "display_data"
    }
   ],
   "source": [
    "#Draw the the Volume history scatterplot chart by weekday/weekend:\n",
    "ax = sns.pairplot(x_vars=[\"Date\"], y_vars=[\"Vol\"], data=df, hue=\"Day\", size=5);\n",
    "ax.set(xlim = (df.Date.min(), df.Date.max()));\n",
    "ax.fig.suptitle(\"Weekend vs Weekday Volume\", y=1.08);"
   ]
  },
  {
   "cell_type": "markdown",
   "metadata": {},
   "source": [
    "Bitcoin seem to be volatile in both weekdays and weekends. However, most its high volume trading are in the weekdays."
   ]
  },
  {
   "cell_type": "markdown",
   "metadata": {},
   "source": [
    "**Which months during Bitcoin history has the highest increase % and which one has the lowest decrease %?**"
   ]
  },
  {
   "cell_type": "code",
   "execution_count": 262,
   "metadata": {},
   "outputs": [
    {
     "data": {
      "image/png": "[encoded data removed]",
      "text/plain": [
       "<Figure size 432x288 with 1 Axes>"
      ]
     },
     "metadata": {
      "needs_background": "light"
     },
     "output_type": "display_data"
    }
   ],
   "source": [
    "#Which months during Bitcoin history has the highest increase % and which one has the lowest decrease %? \n",
    "df1 = df.groupby(df['Date'].dt.strftime('%B'))['Change %'].sum().sort_values()\n",
    "df1 = df1.plot(x='Date', y='Change %', kind='bar', title='Cumulative Change % by Month');\n",
    "df1.set_ylabel(\"Cumulative Change %\");\n",
    "df1.set_xlabel(\"Month\");"
   ]
  },
  {
   "cell_type": "markdown",
   "metadata": {},
   "source": [
    "# Findings and Conclusion:"
   ]
  },
  {
   "cell_type": "markdown",
   "metadata": {},
   "source": [
    "The data is not sufficent to provide an accurate prediction of the change %. However, the analysis show that in the end, Bitcoin price seems to be increasing steadly from 2011 to 2017, making its all-time high in 16 December 2017. After that, it started its downtrend until it reached its lowest price in 16 Dec 2018, then made its next increase wave.\n",
    "\n",
    "Bitcoin seem to be volatile in both weekdays and weekends. However, most its high volume trading are in the weekdays.\n",
    "\n",
    "The highest volume in Bitcoin history was in 6 Feb 2018, when it reached its lowest price in early 2018.\n",
    "\n",
    "Furthermore, it seems the month that has the most downside is September, while the month that gets its most gains is November."
   ]
  },
  {
   "cell_type": "code",
   "execution_count": null,
   "metadata": {},
   "outputs": [],
   "source": []
  }
 ],
 "metadata": {
  "kernelspec": {
   "display_name": "Python 3",
   "language": "python",
   "name": "python3"
  },
  "language_info": {
   "codemirror_mode": {
    "name": "ipython",
    "version": 3
   },
   "file_extension": ".py",
   "mimetype": "text/x-python",
   "name": "python",
   "nbconvert_exporter": "python",
   "pygments_lexer": "ipython3",
   "version": "3.7.3"
  }
 },
 "nbformat": 4,
 "nbformat_minor": 4
}
